{
  "nbformat": 4,
  "nbformat_minor": 0,
  "metadata": {
    "colab": {
      "name": "IntroductionToPytorch.ipynb",
      "provenance": [],
      "collapsed_sections": [],
      "authorship_tag": "ABX9TyPJSwruXNAW37xu6eV+Tg2t",
      "include_colab_link": true
    },
    "kernelspec": {
      "name": "python3",
      "display_name": "Python 3"
    },
    "accelerator": "GPU"
  },
  "cells": [
    {
      "cell_type": "markdown",
      "metadata": {
        "id": "view-in-github",
        "colab_type": "text"
      },
      "source": [
        "<a href=\"https://colab.research.google.com/github/himanshuRepo/Introduction-to-PyTorch/blob/master/IntroductionToPytorch.ipynb\" target=\"_parent\"><img src=\"https://colab.research.google.com/assets/colab-badge.svg\" alt=\"Open In Colab\"/></a>"
      ]
    },
    {
      "cell_type": "markdown",
      "metadata": {
        "id": "jWxhlTjDqEjN",
        "colab_type": "text"
      },
      "source": [
        "**Pytorch**: It is a Python library that facilitates in performing scientific computation.\n",
        "* Similar to Numpy library but ***designed*** for GPU\n",
        "* Uses ***Tensor*** as its core data structure similar to Numpy array\n",
        "* Uses concepts of ***object-oriented programming***\n",
        "* ***Popular*** for deep learning research:\n",
        "  * Dynamic computational graphs\n",
        "  * Easy to move data to and from a GPU\n",
        "  * It keeps things simple and in ***Pythonic*** way\n",
        "\n",
        "\n",
        "\n",
        "\n",
        "\n"
      ]
    },
    {
      "cell_type": "markdown",
      "metadata": {
        "id": "eZAHMNYtELXJ",
        "colab_type": "text"
      },
      "source": [
        "# Importing Pytorch library"
      ]
    },
    {
      "cell_type": "code",
      "metadata": {
        "id": "K2GdIS8OqDJ8",
        "colab_type": "code",
        "colab": {}
      },
      "source": [
        "import torch"
      ],
      "execution_count": 0,
      "outputs": []
    },
    {
      "cell_type": "markdown",
      "metadata": {
        "id": "GolHQAglEh8G",
        "colab_type": "text"
      },
      "source": [
        "# Creating a tensor variable"
      ]
    },
    {
      "cell_type": "code",
      "metadata": {
        "id": "8OGd02RYwYoX",
        "colab_type": "code",
        "colab": {}
      },
      "source": [
        "t = torch.Tensor()"
      ],
      "execution_count": 0,
      "outputs": []
    },
    {
      "cell_type": "code",
      "metadata": {
        "id": "cGJRySGowccq",
        "colab_type": "code",
        "colab": {
          "base_uri": "https://localhost:8080/",
          "height": 34
        },
        "outputId": "d9b298df-e7e5-4488-ff5b-bdbdf4bbb604"
      },
      "source": [
        "# Checking the data type of the created tensor\n",
        "t.dtype"
      ],
      "execution_count": 3,
      "outputs": [
        {
          "output_type": "execute_result",
          "data": {
            "text/plain": [
              "torch.float32"
            ]
          },
          "metadata": {
            "tags": []
          },
          "execution_count": 3
        }
      ]
    },
    {
      "cell_type": "code",
      "metadata": {
        "id": "SfOD2a8zwlep",
        "colab_type": "code",
        "colab": {
          "base_uri": "https://localhost:8080/",
          "height": 34
        },
        "outputId": "8c44b846-dc15-4136-bc66-ec74ffc167a7"
      },
      "source": [
        "# Checking the device of the created tensor\n",
        "t.device"
      ],
      "execution_count": 5,
      "outputs": [
        {
          "output_type": "execute_result",
          "data": {
            "text/plain": [
              "device(type='cpu')"
            ]
          },
          "metadata": {
            "tags": []
          },
          "execution_count": 5
        }
      ]
    },
    {
      "cell_type": "code",
      "metadata": {
        "id": "dqpQoI5nFLVK",
        "colab_type": "code",
        "colab": {
          "base_uri": "https://localhost:8080/",
          "height": 34
        },
        "outputId": "c5da04ec-a199-4ffe-af75-99e96a223934"
      },
      "source": [
        "# Checking the availability of the GPU\n",
        "torch.cuda.is_available()"
      ],
      "execution_count": 6,
      "outputs": [
        {
          "output_type": "execute_result",
          "data": {
            "text/plain": [
              "True"
            ]
          },
          "metadata": {
            "tags": []
          },
          "execution_count": 6
        }
      ]
    },
    {
      "cell_type": "code",
      "metadata": {
        "id": "YLaf4b7PGTiR",
        "colab_type": "code",
        "colab": {
          "base_uri": "https://localhost:8080/",
          "height": 34
        },
        "outputId": "5694764b-1af4-4d89-8449-eb3f648b77d6"
      },
      "source": [
        "# defining the device variable for GPU\n",
        "deviceGPU = torch.device('cuda')\n",
        "deviceGPU"
      ],
      "execution_count": 7,
      "outputs": [
        {
          "output_type": "execute_result",
          "data": {
            "text/plain": [
              "device(type='cuda')"
            ]
          },
          "metadata": {
            "tags": []
          },
          "execution_count": 7
        }
      ]
    },
    {
      "cell_type": "code",
      "metadata": {
        "id": "0RA13PEtGx37",
        "colab_type": "code",
        "colab": {
          "base_uri": "https://localhost:8080/",
          "height": 34
        },
        "outputId": "690258b6-08b5-41da-a56b-9c34425542c4"
      },
      "source": [
        "# Moving the variable to GPU\n",
        "tc = t.to(deviceGPU)\n",
        "tc.device\n"
      ],
      "execution_count": 10,
      "outputs": [
        {
          "output_type": "execute_result",
          "data": {
            "text/plain": [
              "device(type='cuda', index=0)"
            ]
          },
          "metadata": {
            "tags": []
          },
          "execution_count": 10
        }
      ]
    },
    {
      "cell_type": "code",
      "metadata": {
        "id": "Ox8H2iqovW3v",
        "colab_type": "code",
        "colab": {
          "base_uri": "https://localhost:8080/",
          "height": 34
        },
        "outputId": "93a08097-eba2-4a50-e65a-8aad94fcd9ce"
      },
      "source": [
        "t.device"
      ],
      "execution_count": 11,
      "outputs": [
        {
          "output_type": "execute_result",
          "data": {
            "text/plain": [
              "device(type='cpu')"
            ]
          },
          "metadata": {
            "tags": []
          },
          "execution_count": 11
        }
      ]
    },
    {
      "cell_type": "markdown",
      "metadata": {
        "id": "Vcgk56FVFKK2",
        "colab_type": "text"
      },
      "source": [
        "* **Remember**: Operations between tensors can be performed if they are on the same device and have data type"
      ]
    },
    {
      "cell_type": "markdown",
      "metadata": {
        "id": "hjOiGFW-IGYy",
        "colab_type": "text"
      },
      "source": [
        "## Four ways to create a tensor variable with data"
      ]
    },
    {
      "cell_type": "code",
      "metadata": {
        "id": "86Gka09FwsL-",
        "colab_type": "code",
        "colab": {
          "base_uri": "https://localhost:8080/",
          "height": 34
        },
        "outputId": "51ab8d03-141f-49b1-a2d4-98b4c60d9efe"
      },
      "source": [
        "# Defining some data\n",
        "import numpy as np\n",
        "data = np.array([7,8,9])\n",
        "print(data)"
      ],
      "execution_count": 12,
      "outputs": [
        {
          "output_type": "stream",
          "text": [
            "[7 8 9]\n"
          ],
          "name": "stdout"
        }
      ]
    },
    {
      "cell_type": "code",
      "metadata": {
        "id": "CGsYoEvjxpR_",
        "colab_type": "code",
        "colab": {
          "base_uri": "https://localhost:8080/",
          "height": 34
        },
        "outputId": "9198f25e-2849-40cc-8c83-513c73aa0b0a"
      },
      "source": [
        "# Checking the data type of the data\n",
        "type(data)"
      ],
      "execution_count": 13,
      "outputs": [
        {
          "output_type": "execute_result",
          "data": {
            "text/plain": [
              "numpy.ndarray"
            ]
          },
          "metadata": {
            "tags": []
          },
          "execution_count": 13
        }
      ]
    },
    {
      "cell_type": "code",
      "metadata": {
        "id": "3EWH_cxIxvIF",
        "colab_type": "code",
        "colab": {
          "base_uri": "https://localhost:8080/",
          "height": 51
        },
        "outputId": "76ce25e1-1dd4-43fc-d741-b2345b44f6ef"
      },
      "source": [
        "# I: First way\n",
        "t1 = torch.Tensor(data)\n",
        "print(t1)\n",
        "print(t1.dtype)"
      ],
      "execution_count": 18,
      "outputs": [
        {
          "output_type": "stream",
          "text": [
            "tensor([7., 8., 9.])\n",
            "torch.float32\n"
          ],
          "name": "stdout"
        }
      ]
    },
    {
      "cell_type": "code",
      "metadata": {
        "id": "xJr2KDBjx5t8",
        "colab_type": "code",
        "colab": {
          "base_uri": "https://localhost:8080/",
          "height": 51
        },
        "outputId": "92cf10fb-f246-4c56-a3cf-efa877fa362e"
      },
      "source": [
        "# II: Second way\n",
        "t2 = torch.tensor(data)\n",
        "print(t2)\n",
        "print(t2.dtype)"
      ],
      "execution_count": 21,
      "outputs": [
        {
          "output_type": "stream",
          "text": [
            "tensor([7, 8, 9])\n",
            "torch.int64\n"
          ],
          "name": "stdout"
        }
      ]
    },
    {
      "cell_type": "code",
      "metadata": {
        "id": "WSJXv87jyCHk",
        "colab_type": "code",
        "colab": {
          "base_uri": "https://localhost:8080/",
          "height": 51
        },
        "outputId": "e8604414-fabc-43c4-af64-791fc2ffff56"
      },
      "source": [
        "# III: Third way\n",
        "t3 = torch.as_tensor(data)\n",
        "print(t3)\n",
        "print(t3.dtype)"
      ],
      "execution_count": 20,
      "outputs": [
        {
          "output_type": "stream",
          "text": [
            "tensor([7, 8, 9])\n",
            "torch.int64\n"
          ],
          "name": "stdout"
        }
      ]
    },
    {
      "cell_type": "code",
      "metadata": {
        "id": "1tGWePO1yGMD",
        "colab_type": "code",
        "colab": {
          "base_uri": "https://localhost:8080/",
          "height": 51
        },
        "outputId": "f7d51940-8472-4575-8dbe-9316c2ae7c51"
      },
      "source": [
        "# IV: Fourth way\n",
        "t4 = torch.from_numpy(data)\n",
        "print(t4)\n",
        "print(t4.dtype)"
      ],
      "execution_count": 19,
      "outputs": [
        {
          "output_type": "stream",
          "text": [
            "tensor([7, 8, 9])\n",
            "torch.int64\n"
          ],
          "name": "stdout"
        }
      ]
    },
    {
      "cell_type": "code",
      "metadata": {
        "id": "JCKgGbm2HPAg",
        "colab_type": "code",
        "colab": {
          "base_uri": "https://localhost:8080/",
          "height": 34
        },
        "outputId": "f87e21e2-8509-4566-9c25-f0ce39fceb72"
      },
      "source": [
        "# Checking the device of the tensor variable\n",
        "t4.device"
      ],
      "execution_count": 22,
      "outputs": [
        {
          "output_type": "execute_result",
          "data": {
            "text/plain": [
              "device(type='cpu')"
            ]
          },
          "metadata": {
            "tags": []
          },
          "execution_count": 22
        }
      ]
    },
    {
      "cell_type": "code",
      "metadata": {
        "id": "hkUV6xtLHSBe",
        "colab_type": "code",
        "colab": {
          "base_uri": "https://localhost:8080/",
          "height": 34
        },
        "outputId": "4fa073a0-542c-44bc-b9de-c19081de6611"
      },
      "source": [
        "# Changing the device as GPU \n",
        "tc4 = t4.to(deviceGPU)\n",
        "tc4.device  "
      ],
      "execution_count": 24,
      "outputs": [
        {
          "output_type": "execute_result",
          "data": {
            "text/plain": [
              "device(type='cuda', index=0)"
            ]
          },
          "metadata": {
            "tags": []
          },
          "execution_count": 24
        }
      ]
    },
    {
      "cell_type": "code",
      "metadata": {
        "id": "w9bDZCUIyK67",
        "colab_type": "code",
        "colab": {
          "base_uri": "https://localhost:8080/",
          "height": 51
        },
        "outputId": "236b6ec9-d7fb-4449-d1b9-4d1fbed45b7c"
      },
      "source": [
        "# Defining the data type of tensor variable expicitly: Possible with II, III, and IV\n",
        "t5 = torch.tensor(data, dtype=torch.float32)\n",
        "print(t5)\n",
        "print(t5.dtype)"
      ],
      "execution_count": 26,
      "outputs": [
        {
          "output_type": "stream",
          "text": [
            "tensor([7., 8., 9.])\n",
            "torch.float32\n"
          ],
          "name": "stdout"
        }
      ]
    },
    {
      "cell_type": "markdown",
      "metadata": {
        "id": "AA5DVPztJ4RE",
        "colab_type": "text"
      },
      "source": [
        "## Tensors with shared and separate memory"
      ]
    },
    {
      "cell_type": "code",
      "metadata": {
        "id": "xhbj0_jxyX1Q",
        "colab_type": "code",
        "colab": {
          "base_uri": "https://localhost:8080/",
          "height": 51
        },
        "outputId": "d9533099-456c-4f91-c528-7deaeaabf88e"
      },
      "source": [
        "# Data sample \n",
        "data1 = data\n",
        "print(data1)\n",
        "data2=data.copy()\n",
        "print(data2)"
      ],
      "execution_count": 27,
      "outputs": [
        {
          "output_type": "stream",
          "text": [
            "[7 8 9]\n",
            "[7 8 9]\n"
          ],
          "name": "stdout"
        }
      ]
    },
    {
      "cell_type": "code",
      "metadata": {
        "id": "-byWIKLLyklv",
        "colab_type": "code",
        "colab": {
          "base_uri": "https://localhost:8080/",
          "height": 68
        },
        "outputId": "fb851618-7c2a-4369-bae2-4e84133b1574"
      },
      "source": [
        "# Changing a value of data variable\n",
        "data[1]=3\n",
        "print(data)\n",
        "print(data1)\n",
        "print(data2)"
      ],
      "execution_count": 28,
      "outputs": [
        {
          "output_type": "stream",
          "text": [
            "[7 3 9]\n",
            "[7 3 9]\n",
            "[7 8 9]\n"
          ],
          "name": "stdout"
        }
      ]
    },
    {
      "cell_type": "code",
      "metadata": {
        "id": "bvMhnhmXyqQg",
        "colab_type": "code",
        "colab": {
          "base_uri": "https://localhost:8080/",
          "height": 85
        },
        "outputId": "08799354-d8c9-425e-9366-2e652acd66b3"
      },
      "source": [
        "# Changes in the tensor variables created using data above\n",
        "print(t1) # I method: No value changes => Creates a separate memory for itself\n",
        "print(t2) # II method: No value changes => Creates a separate memory for itself\n",
        "print(t3) # III method: Value changes => Shares the memory of the data\n",
        "print(t4) # IV method: Value changes => Shares the memory of the data"
      ],
      "execution_count": 29,
      "outputs": [
        {
          "output_type": "stream",
          "text": [
            "tensor([7., 8., 9.])\n",
            "tensor([7, 8, 9])\n",
            "tensor([7, 3, 9])\n",
            "tensor([7, 3, 9])\n"
          ],
          "name": "stdout"
        }
      ]
    },
    {
      "cell_type": "markdown",
      "metadata": {
        "id": "VI8H8VcYLbtN",
        "colab_type": "text"
      },
      "source": [
        "# Ways to create a tensor variable with default values"
      ]
    },
    {
      "cell_type": "code",
      "metadata": {
        "id": "L1kDN9SmzE1T",
        "colab_type": "code",
        "colab": {
          "base_uri": "https://localhost:8080/",
          "height": 51
        },
        "outputId": "2a450c66-d5b1-40d6-bd11-9e2ef00f4a6f"
      },
      "source": [
        "# Using the eye function to create Identity tensor\n",
        "t6 = torch.eye(2)\n",
        "print(t6)"
      ],
      "execution_count": 30,
      "outputs": [
        {
          "output_type": "stream",
          "text": [
            "tensor([[1., 0.],\n",
            "        [0., 1.]])\n"
          ],
          "name": "stdout"
        }
      ]
    },
    {
      "cell_type": "code",
      "metadata": {
        "id": "ivBGfuDiza7V",
        "colab_type": "code",
        "colab": {
          "base_uri": "https://localhost:8080/",
          "height": 51
        },
        "outputId": "5e131a57-883e-491d-9b5a-bc1b23813608"
      },
      "source": [
        "# Using the zeros function\n",
        "t7 = torch.zeros([2,2])\n",
        "print(t7)"
      ],
      "execution_count": 31,
      "outputs": [
        {
          "output_type": "stream",
          "text": [
            "tensor([[0., 0.],\n",
            "        [0., 0.]])\n"
          ],
          "name": "stdout"
        }
      ]
    },
    {
      "cell_type": "code",
      "metadata": {
        "id": "xMeju7p2965x",
        "colab_type": "code",
        "colab": {
          "base_uri": "https://localhost:8080/",
          "height": 51
        },
        "outputId": "a9962f62-3e7b-4e4e-efab-92b46bd7c03b"
      },
      "source": [
        "# Using the ones function\n",
        "t8 = torch.ones(2,2)\n",
        "print(t8)"
      ],
      "execution_count": 32,
      "outputs": [
        {
          "output_type": "stream",
          "text": [
            "tensor([[1., 1.],\n",
            "        [1., 1.]])\n"
          ],
          "name": "stdout"
        }
      ]
    },
    {
      "cell_type": "code",
      "metadata": {
        "id": "Oa_3i1nQ-EI9",
        "colab_type": "code",
        "colab": {
          "base_uri": "https://localhost:8080/",
          "height": 68
        },
        "outputId": "991840ec-3a06-45a5-a864-da0b5a5745d3"
      },
      "source": [
        "# Using the rand function\n",
        "t9 = torch.rand(3,4)\n",
        "print(t9)"
      ],
      "execution_count": 33,
      "outputs": [
        {
          "output_type": "stream",
          "text": [
            "tensor([[0.4885, 0.8982, 0.2852, 0.8391],\n",
            "        [0.9299, 0.0885, 0.6594, 0.1326],\n",
            "        [0.2563, 0.7079, 0.6505, 0.0451]])\n"
          ],
          "name": "stdout"
        }
      ]
    },
    {
      "cell_type": "markdown",
      "metadata": {
        "id": "9jL2zhE-84Uw",
        "colab_type": "text"
      },
      "source": [
        "#Some properties and operations on a tensor variable"
      ]
    },
    {
      "cell_type": "code",
      "metadata": {
        "id": "pLUIYACq-I-v",
        "colab_type": "code",
        "colab": {
          "base_uri": "https://localhost:8080/",
          "height": 68
        },
        "outputId": "60d11a30-d7e7-42b1-d8a3-459bd581a221"
      },
      "source": [
        "print(t9.size())        # Determines shape of tensor variable\n",
        "print(t9.shape)         # Determines shape of tensor variable\n",
        "print(t9.numel())       # Determines number of values in tensor variable\n",
        "# print(torch.tensor(t9.shape).prod().item())"
      ],
      "execution_count": 34,
      "outputs": [
        {
          "output_type": "stream",
          "text": [
            "torch.Size([3, 4])\n",
            "torch.Size([3, 4])\n",
            "12\n"
          ],
          "name": "stdout"
        }
      ]
    },
    {
      "cell_type": "markdown",
      "metadata": {
        "id": "UO1W-poj9f6z",
        "colab_type": "text"
      },
      "source": [
        "## Reshaping operation"
      ]
    },
    {
      "cell_type": "code",
      "metadata": {
        "id": "WW4RA3SN-abL",
        "colab_type": "code",
        "colab": {
          "base_uri": "https://localhost:8080/",
          "height": 170
        },
        "outputId": "bb880114-823f-47c9-b531-bdcae2e858fb"
      },
      "source": [
        "t10 = t9.reshape([2,6])\n",
        "print(t10)\n",
        "print(t10.shape)\n",
        "print(t9.reshape(3,4))\n",
        "print(t9.view(3,4))"
      ],
      "execution_count": 35,
      "outputs": [
        {
          "output_type": "stream",
          "text": [
            "tensor([[0.4885, 0.8982, 0.2852, 0.8391, 0.9299, 0.0885],\n",
            "        [0.6594, 0.1326, 0.2563, 0.7079, 0.6505, 0.0451]])\n",
            "torch.Size([2, 6])\n",
            "tensor([[0.4885, 0.8982, 0.2852, 0.8391],\n",
            "        [0.9299, 0.0885, 0.6594, 0.1326],\n",
            "        [0.2563, 0.7079, 0.6505, 0.0451]])\n",
            "tensor([[0.4885, 0.8982, 0.2852, 0.8391],\n",
            "        [0.9299, 0.0885, 0.6594, 0.1326],\n",
            "        [0.2563, 0.7079, 0.6505, 0.0451]])\n"
          ],
          "name": "stdout"
        }
      ]
    },
    {
      "cell_type": "markdown",
      "metadata": {
        "id": "ua8JyE7G92qr",
        "colab_type": "text"
      },
      "source": [
        "## Squeezing and unsqueezing operation"
      ]
    },
    {
      "cell_type": "code",
      "metadata": {
        "id": "hYs1gcGl_Vgh",
        "colab_type": "code",
        "colab": {
          "base_uri": "https://localhost:8080/",
          "height": 391
        },
        "outputId": "c349253f-8e1d-41a8-ed14-1bc178435f0d"
      },
      "source": [
        "t11 = t9.reshape([1,12])\n",
        "print(t11)\n",
        "print(t11.shape)\n",
        "\n",
        "# Squeezing operation\n",
        "t12 = t11.squeeze()           \n",
        "print(t12)\n",
        "print(t12.shape)\n",
        "\n",
        "# Unsqueezing operation along first axis/dimension (row-wise for 2d Tensor)\n",
        "t13 = t12.unsqueeze(dim=0)   \n",
        "print(t13)\n",
        "print(t13.shape)\n",
        "\n",
        "# Unsqueezing operation along second axis/dimension (column-wise for 2d Tensor)\n",
        "t13 = t12.unsqueeze(dim=1)   \n",
        "print(t13)\n",
        "print(t13.shape)"
      ],
      "execution_count": 41,
      "outputs": [
        {
          "output_type": "stream",
          "text": [
            "tensor([[0.4885, 0.8982, 0.2852, 0.8391, 0.9299, 0.0885, 0.6594, 0.1326, 0.2563,\n",
            "         0.7079, 0.6505, 0.0451]])\n",
            "torch.Size([1, 12])\n",
            "tensor([0.4885, 0.8982, 0.2852, 0.8391, 0.9299, 0.0885, 0.6594, 0.1326, 0.2563,\n",
            "        0.7079, 0.6505, 0.0451])\n",
            "torch.Size([12])\n",
            "tensor([[0.4885, 0.8982, 0.2852, 0.8391, 0.9299, 0.0885, 0.6594, 0.1326, 0.2563,\n",
            "         0.7079, 0.6505, 0.0451]])\n",
            "torch.Size([1, 12])\n",
            "tensor([[0.4885],\n",
            "        [0.8982],\n",
            "        [0.2852],\n",
            "        [0.8391],\n",
            "        [0.9299],\n",
            "        [0.0885],\n",
            "        [0.6594],\n",
            "        [0.1326],\n",
            "        [0.2563],\n",
            "        [0.7079],\n",
            "        [0.6505],\n",
            "        [0.0451]])\n",
            "torch.Size([12, 1])\n"
          ],
          "name": "stdout"
        }
      ]
    },
    {
      "cell_type": "markdown",
      "metadata": {
        "id": "NJKtgFEYAyGx",
        "colab_type": "text"
      },
      "source": [
        "## Concatenation operation"
      ]
    },
    {
      "cell_type": "code",
      "metadata": {
        "id": "AWX0z3zV_vaJ",
        "colab_type": "code",
        "colab": {
          "base_uri": "https://localhost:8080/",
          "height": 221
        },
        "outputId": "4e3cb5eb-5521-4bea-e1bb-9101cd608c23"
      },
      "source": [
        "t14 = torch.zeros(2,2)\n",
        "print(t14)\n",
        "t15 = torch.ones(2,2)\n",
        "print(t15)\n",
        "\n",
        "# Concatenating along first axis/dimension (row-wise for 2d Tensor)\n",
        "t16 = torch.cat((t14,t15),dim=0)\n",
        "print(t16)\n",
        "print(t16.shape)\n",
        "\n",
        "# Concatenating along second axis/dimension (column-wise for 2d Tensor)\n",
        "t17 = torch.cat((t14,t15),dim=1)\n",
        "print(t17)\n",
        "print(t17.shape)"
      ],
      "execution_count": 42,
      "outputs": [
        {
          "output_type": "stream",
          "text": [
            "tensor([[0., 0.],\n",
            "        [0., 0.]])\n",
            "tensor([[1., 1.],\n",
            "        [1., 1.]])\n",
            "tensor([[0., 0.],\n",
            "        [0., 0.],\n",
            "        [1., 1.],\n",
            "        [1., 1.]])\n",
            "torch.Size([4, 2])\n",
            "tensor([[0., 0., 1., 1.],\n",
            "        [0., 0., 1., 1.]])\n",
            "torch.Size([2, 4])\n"
          ],
          "name": "stdout"
        }
      ]
    },
    {
      "cell_type": "markdown",
      "metadata": {
        "id": "3yq5orHLB3t0",
        "colab_type": "text"
      },
      "source": [
        "## Stacking operation"
      ]
    },
    {
      "cell_type": "code",
      "metadata": {
        "id": "OpSmHDT9Aozg",
        "colab_type": "code",
        "colab": {
          "base_uri": "https://localhost:8080/",
          "height": 272
        },
        "outputId": "c7d6290f-d6f2-4a04-bc79-42ca5962fcae"
      },
      "source": [
        "t18 = torch.zeros(2,2)\n",
        "print(t18)\n",
        "t19 = torch.ones(2,2)\n",
        "print(t19)\n",
        "t20 = torch.rand(2,2)\n",
        "print(t20)\n",
        "\n",
        "# Stacking operation\n",
        "t21 = torch.stack((t18,t19,t20))\n",
        "print(t21)\n",
        "print(t21.shape)\n",
        "\n",
        "# Stacking along first axis/dimension\n",
        "t22 = torch.stack((t18,t19,t20),dim=0)\n",
        "print(t22)\n",
        "print(t22.shape)\n",
        "\n",
        "# Stacking along second axis/dimension\n",
        "t23 = torch.stack((t18,t19,t20),dim=1)\n",
        "print(t23)\n",
        "print(t23.shape)\n",
        "\n",
        "# Stacking along third axis/dimension\n",
        "t24 = torch.stack((t18,t19,t20),dim=2)\n",
        "print(t24)\n",
        "print(t24.shape)"
      ],
      "execution_count": 49,
      "outputs": [
        {
          "output_type": "stream",
          "text": [
            "tensor([[0., 0.],\n",
            "        [0., 0.]])\n",
            "tensor([[1., 1.],\n",
            "        [1., 1.]])\n",
            "tensor([[0.3749, 0.5546],\n",
            "        [0.0469, 0.4357]])\n",
            "tensor([[[0.0000, 0.0000],\n",
            "         [0.0000, 0.0000]],\n",
            "\n",
            "        [[1.0000, 1.0000],\n",
            "         [1.0000, 1.0000]],\n",
            "\n",
            "        [[0.3749, 0.5546],\n",
            "         [0.0469, 0.4357]]])\n",
            "torch.Size([3, 2, 2])\n"
          ],
          "name": "stdout"
        }
      ]
    },
    {
      "cell_type": "markdown",
      "metadata": {
        "id": "OmiF4kpSCnVc",
        "colab_type": "text"
      },
      "source": [
        "## Flattening operation"
      ]
    },
    {
      "cell_type": "code",
      "metadata": {
        "id": "z9gPJ1hkBzqj",
        "colab_type": "code",
        "colab": {
          "base_uri": "https://localhost:8080/",
          "height": 102
        },
        "outputId": "cf939424-cba2-4e48-81d4-bc02b50927f7"
      },
      "source": [
        "# Flattening along first axis/dimension\n",
        "print(t21.flatten(start_dim=0))\n",
        "# Flattening along second axis/dimension\n",
        "print(t21.flatten(start_dim=1))"
      ],
      "execution_count": 53,
      "outputs": [
        {
          "output_type": "stream",
          "text": [
            "tensor([0.0000, 0.0000, 0.0000, 0.0000, 1.0000, 1.0000, 1.0000, 1.0000, 0.3749,\n",
            "        0.5546, 0.0469, 0.4357])\n",
            "tensor([[0.0000, 0.0000, 0.0000, 0.0000],\n",
            "        [1.0000, 1.0000, 1.0000, 1.0000],\n",
            "        [0.3749, 0.5546, 0.0469, 0.4357]])\n"
          ],
          "name": "stdout"
        }
      ]
    },
    {
      "cell_type": "markdown",
      "metadata": {
        "id": "oOHSPjphC2fG",
        "colab_type": "text"
      },
      "source": [
        "## Element-wise operations"
      ]
    },
    {
      "cell_type": "code",
      "metadata": {
        "id": "aj5o0e3nCA8S",
        "colab_type": "code",
        "colab": {
          "base_uri": "https://localhost:8080/",
          "height": 289
        },
        "outputId": "63573866-0398-4e5b-a563-4a33e9842bff"
      },
      "source": [
        "t25 = torch.ones(2,2)\n",
        "print(t25)\n",
        "t26 = torch.rand(2,2)\n",
        "print(t26)\n",
        "\n",
        "# All arithmetic operations: +, -, *, %; add(), sub(), mul(), div()\n",
        "print(t25+t26)\n",
        "print(t25.add(t26))\n",
        "\n",
        "# All logical operations: ==, =>, <=; eq, ge, le,\n",
        "print(t25<=t26)\n",
        "print(t25.le(t26))\n",
        "\n",
        "# Some mathemathical functions like sqrt(), abs()l neg()\n",
        "print(t25.neg())\n",
        "\n",
        "# Arithmetic operation betwenn tensor variable and scalar: Becoz of Broadcasting\n",
        "print(t25+2)"
      ],
      "execution_count": 60,
      "outputs": [
        {
          "output_type": "stream",
          "text": [
            "tensor([[1., 1.],\n",
            "        [1., 1.]])\n",
            "tensor([[0.0577, 0.7670],\n",
            "        [0.9564, 0.0587]])\n",
            "tensor([[1.0577, 1.7670],\n",
            "        [1.9564, 1.0587]])\n",
            "tensor([[1.0577, 1.7670],\n",
            "        [1.9564, 1.0587]])\n",
            "tensor([[False, False],\n",
            "        [False, False]])\n",
            "tensor([[False, False],\n",
            "        [False, False]])\n",
            "tensor([[-1., -1.],\n",
            "        [-1., -1.]])\n",
            "tensor([[3., 3.],\n",
            "        [3., 3.]])\n"
          ],
          "name": "stdout"
        }
      ]
    },
    {
      "cell_type": "markdown",
      "metadata": {
        "id": "85adPjflEfpr",
        "colab_type": "text"
      },
      "source": [
        "## Reducing operations"
      ]
    },
    {
      "cell_type": "code",
      "metadata": {
        "id": "GMfL2ITsCy0i",
        "colab_type": "code",
        "colab": {
          "base_uri": "https://localhost:8080/",
          "height": 51
        },
        "outputId": "3a767fc6-1257-4fa5-c029-b82907094b4f"
      },
      "source": [
        "print(t25.sum())\n",
        "print(t25.mean())"
      ],
      "execution_count": 61,
      "outputs": [
        {
          "output_type": "stream",
          "text": [
            "tensor(4.)\n",
            "tensor(1.)\n"
          ],
          "name": "stdout"
        }
      ]
    },
    {
      "cell_type": "markdown",
      "metadata": {
        "id": "xfa2FkJPEk-6",
        "colab_type": "text"
      },
      "source": [
        "## Accessing elements of tensor"
      ]
    },
    {
      "cell_type": "code",
      "metadata": {
        "id": "uc6g4wSRC5nU",
        "colab_type": "code",
        "colab": {
          "base_uri": "https://localhost:8080/",
          "height": 34
        },
        "outputId": "d14996c1-dbaf-473a-aeaf-780c7d52f874"
      },
      "source": [
        "print(t25.mean().item()) # Accessing the mean value from the output tensor"
      ],
      "execution_count": 62,
      "outputs": [
        {
          "output_type": "stream",
          "text": [
            "1.0\n"
          ],
          "name": "stdout"
        }
      ]
    },
    {
      "cell_type": "code",
      "metadata": {
        "id": "nwZL7NH1C-wf",
        "colab_type": "code",
        "colab": {
          "base_uri": "https://localhost:8080/",
          "height": 68
        },
        "outputId": "d3b7511a-84c4-4a36-e9e7-308d3f97fe17"
      },
      "source": [
        "# Accessing the mean alog first axis/dimension and converting the result to list\n",
        "print(t25.mean(dim=0).tolist())\n",
        "print(type(t25.mean(dim=0).tolist()))\n",
        "print(len(t25.mean(dim=0).tolist()))"
      ],
      "execution_count": 63,
      "outputs": [
        {
          "output_type": "stream",
          "text": [
            "[1.0, 1.0]\n",
            "<class 'list'>\n",
            "2\n"
          ],
          "name": "stdout"
        }
      ]
    },
    {
      "cell_type": "code",
      "metadata": {
        "id": "qJyYoZF7DFaM",
        "colab_type": "code",
        "colab": {
          "base_uri": "https://localhost:8080/",
          "height": 85
        },
        "outputId": "f57dda38-8d99-4c93-f385-29b47ebebceb"
      },
      "source": [
        "# Accessing the mean alog first axis/dimension and converting the result to numpy\n",
        "print(t25.mean(dim=0).numpy())\n",
        "print(type(t25.mean(dim=0).numpy()))\n",
        "print(t25.mean(dim=0).numpy().dtype)\n",
        "print(t25.mean(dim=0).numpy().shape)"
      ],
      "execution_count": 64,
      "outputs": [
        {
          "output_type": "stream",
          "text": [
            "[1. 1.]\n",
            "<class 'numpy.ndarray'>\n",
            "float32\n",
            "(2,)\n"
          ],
          "name": "stdout"
        }
      ]
    },
    {
      "cell_type": "markdown",
      "metadata": {
        "id": "LW6YSvP2s8oC",
        "colab_type": "text"
      },
      "source": [
        "**References:**\n",
        "* https://deeplizard.com/learn/video/v5cngxo4mIg\n",
        "* https://www.learnopencv.com/pytorch-for-beginners-basics/\n",
        "* https://adventuresinmachinelearning.com/pytorch-tutorial-deep-learning/\n",
        "* https://pythonprogramming.net/introduction-deep-learning-neural-network-pytorch/"
      ]
    }
  ]
}